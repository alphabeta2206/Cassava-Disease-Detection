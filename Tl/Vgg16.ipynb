{
 "cells": [
  {
   "cell_type": "markdown",
   "metadata": {
    "_cell_guid": "19d4af1b-626e-44d3-ab88-b59580cd769e",
    "_uuid": "cd77d31a-5559-47d4-918f-9fd5df38abfc"
   },
   "source": [
    "**Our Casava project research work**"
   ]
  },
  {
   "cell_type": "markdown",
   "metadata": {
    "_cell_guid": "259dfd49-6da3-4496-95e4-201b0dbf5b10",
    "_uuid": "a6279183-aeb8-4786-9e20-f3880f8b7e02"
   },
   "source": [
    "Get the necessary imports."
   ]
  },
  {
   "cell_type": "code",
   "execution_count": null,
   "metadata": {
    "_cell_guid": "bc2a0ca5-7960-4e0c-8039-fc19fef3940c",
    "_uuid": "f45314ca-14a5-4c11-9002-088889055e35"
   },
   "outputs": [],
   "source": [
    "import os, shutil\n",
    "from keras import layers, models, optimizers\n",
    "import pandas as pd\n",
    "import numpy as np\n",
    "import tensorflow as tf\n",
    "from keras.preprocessing.image import ImageDataGenerator, load_img, img_to_array, smart_resize\n",
    "from keras.callbacks import EarlyStopping, LearningRateScheduler, ReduceLROnPlateau, ModelCheckpoint\n",
    "from keras.applications import VGG16\n",
    "import matplotlib.pyplot as plt\n",
    "import seaborn as sns"
   ]
  },
  {
   "cell_type": "code",
   "execution_count": null,
   "metadata": {
    "_cell_guid": "f669c69e-9d2d-4900-bcca-4e35bb4374f3",
    "_uuid": "cb1c3cef-7ac4-4303-9a34-7f58fd488f92"
   },
   "outputs": [],
   "source": [
    "work_dir = '../input/cassava-leaf-disease-classification/'\n",
    "os.listdir(work_dir) \n",
    "train_path = '/kaggle/input/cassava-leaf-disease-classification/train_images'"
   ]
  },
  {
   "cell_type": "code",
   "execution_count": null,
   "metadata": {
    "_cell_guid": "a6d41a35-c986-4b47-99af-23903572a386",
    "_uuid": "d4c957ed-2d89-46eb-835f-6fa376014000"
   },
   "outputs": [],
   "source": [
    "print(\"Num GPUs Available: \", len(tf.config.experimental.list_physical_devices('GPU')))\n",
    "with tf.device('/GPU:0'):\n",
    "    print('Yes, there is GPU')\n",
    "    \n",
    "tf.debugging.set_log_device_placement(True)"
   ]
  },
  {
   "cell_type": "code",
   "execution_count": null,
   "metadata": {
    "_cell_guid": "22b6e245-0652-44a7-8e4e-8e9116915d01",
    "_uuid": "12f08d07-c404-4399-a9d2-0a9126e25e74"
   },
   "outputs": [],
   "source": [
    "import random\n",
    "import warnings\n",
    "def seed_everything(seed=0):\n",
    "    random.seed(seed)\n",
    "    np.random.seed(seed)\n",
    "    tf.random.set_seed(seed)\n",
    "    os.environ['PYTHONHASHSEED'] = str(seed)\n",
    "    os.environ['TF_DETERMINISTIC_OPS'] = '1'\n",
    "\n",
    "seed = 21\n",
    "seed_everything(seed)\n",
    "warnings.filterwarnings('ignore')"
   ]
  },
  {
   "cell_type": "code",
   "execution_count": null,
   "metadata": {
    "_cell_guid": "553178e1-19df-49c1-a66c-ef629c08a537",
    "_uuid": "5da2093b-736c-4a73-b3e6-d338dff1a56e"
   },
   "outputs": [],
   "source": [
    "data = pd.read_csv(work_dir + 'train.csv')\n",
    "print(data['label'].value_counts())"
   ]
  },
  {
   "cell_type": "code",
   "execution_count": null,
   "metadata": {
    "_cell_guid": "de7ef889-63b0-4625-8d71-c541e14ed08f",
    "_uuid": "11599d61-e767-41d3-a253-c72b6f4c99ba"
   },
   "outputs": [],
   "source": [
    "import json\n",
    "# Importing the json file with labels\n",
    "with open(work_dir + 'label_num_to_disease_map.json') as f:\n",
    "    real_labels = json.load(f)\n",
    "    real_labels = {int(k):v for k,v in real_labels.items()}\n",
    "    \n",
    "# Defining the working dataset\n",
    "data['class_name'] = data['label'].map(real_labels)\n",
    "\n",
    "real_labels"
   ]
  },
  {
   "cell_type": "code",
   "execution_count": null,
   "metadata": {},
   "outputs": [],
   "source": [
    "from sklearn.model_selection import train_test_split\n",
    "# generate train and test sets\n",
    "train, test = train_test_split(data, test_size = 0.05, random_state = 42, stratify = data['class_name'])"
   ]
  },
  {
   "cell_type": "code",
   "execution_count": null,
   "metadata": {},
   "outputs": [],
   "source": [
    "from keras.utils import  plot_model\n",
    "modelvgg = VGG16()\n",
    "plot_model(modelvgg)"
   ]
  },
  {
   "cell_type": "code",
   "execution_count": null,
   "metadata": {},
   "outputs": [],
   "source": [
    "IMG_SIZE = 456\n",
    "size = (IMG_SIZE,IMG_SIZE)\n",
    "n_CLASS = 5\n",
    "BATCH_SIZE = 15"
   ]
  },
  {
   "cell_type": "code",
   "execution_count": null,
   "metadata": {},
   "outputs": [],
   "source": [
    "datagen_train = ImageDataGenerator(\n",
    "    preprocessing_function = tf.keras.applications.vgg16.preprocess_input,\n",
    "    rotation_range = 40,\n",
    "    width_shift_range = 0.2,\n",
    "    height_shift_range = 0.2,\n",
    "    shear_range = 0.2,\n",
    "    zoom_range = 0.2,\n",
    "    horizontal_flip = True,\n",
    "    vertical_flip = True,\n",
    "    fill_mode = 'nearest',\n",
    ")\n",
    "\n",
    "datagen_test = ImageDataGenerator(\n",
    "    preprocessing_function = tf.keras.applications.vgg16.preprocess_input,\n",
    ")"
   ]
  },
  {
   "cell_type": "code",
   "execution_count": null,
   "metadata": {},
   "outputs": [],
   "source": [
    "train_set = datagen_train.flow_from_dataframe(\n",
    "    train,\n",
    "    directory=train_path,\n",
    "    seed=42,\n",
    "    x_col='image_id',\n",
    "    y_col='class_name',\n",
    "    target_size = size,\n",
    "    class_mode='categorical',\n",
    "    interpolation='nearest',\n",
    "    shuffle = True,\n",
    "    batch_size = BATCH_SIZE,\n",
    ")\n",
    "\n",
    "test_set = datagen_test.flow_from_dataframe(\n",
    "    test,\n",
    "    directory=train_path,\n",
    "    seed=42,\n",
    "    x_col='image_id',\n",
    "    y_col='class_name',\n",
    "    target_size = size,\n",
    "    class_mode='categorical',\n",
    "    interpolation='nearest',\n",
    "    shuffle=True,\n",
    "    batch_size=BATCH_SIZE,    \n",
    ")"
   ]
  },
  {
   "cell_type": "code",
   "execution_count": null,
   "metadata": {},
   "outputs": [],
   "source": [
    "import keras\n",
    "from keras.models import Sequential\n",
    "from keras.layers import GlobalAveragePooling2D, Flatten, Dense, Dropout, BatchNormalization\n",
    "from keras.optimizers import RMSprop, Adam\n",
    "from keras.callbacks import EarlyStopping, ModelCheckpoint, ReduceLROnPlateau\n",
    "model = Sequential()\n",
    "vgg=VGG16(input_shape = (IMG_SIZE, IMG_SIZE, 3), weights = 'imagenet', include_top = False)\n",
    "for layer in vgg.layers:\n",
    "    layer.trainable = False\n",
    "model.add(vgg)\n",
    "model.add(GlobalAveragePooling2D())\n",
    "model.add(Flatten())\n",
    "model.add(Dense(n_CLASS, activation = 'softmax'))\n",
    "model.summary()"
   ]
  },
  {
   "cell_type": "code",
   "execution_count": null,
   "metadata": {},
   "outputs": [],
   "source": [
    "def model_fit():\n",
    "    \n",
    "    # Loss function \n",
    "    # https://www.tensorflow.org/api_docs/python/tf/keras/losses/CategoricalCrossentropy\n",
    "    loss = tf.keras.losses.CategoricalCrossentropy(\n",
    "        from_logits = False,\n",
    "        label_smoothing=0.0001,\n",
    "        name='categorical_crossentropy'\n",
    "    )\n",
    "    \n",
    "    # Compile the model\n",
    "    model.compile(\n",
    "        optimizer = Adam(learning_rate = 1e-3),\n",
    "        loss = loss, #'categorical_crossentropy'\n",
    "        metrics = ['categorical_accuracy']\n",
    "    )\n",
    "    \n",
    "    # Stop training when the val_loss has stopped decreasing for 3 epochs.\n",
    "    # https://www.tensorflow.org/api_docs/python/tf/keras/callbacks/EarlyStopping\n",
    "    es = EarlyStopping(\n",
    "        monitor='val_loss', \n",
    "        mode='min', \n",
    "        patience=3,\n",
    "        restore_best_weights=True, \n",
    "        verbose=1,\n",
    "    )\n",
    "    \n",
    "    # Save the model with the minimum validation loss\n",
    "    # https://www.tensorflow.org/api_docs/python/tf/keras/callbacks/ModelCheckpoint\n",
    "    checkpoint_cb = ModelCheckpoint(\n",
    "        \"Cassava_best_model.h5\",\n",
    "        save_best_only=True,\n",
    "        monitor='val_loss',\n",
    "        mode='min',\n",
    "    )\n",
    "    \n",
    "    # Reduce learning rate once learning stagnates\n",
    "    # https://www.tensorflow.org/api_docs/python/tf/keras/callbacks/ReduceLROnPlateau\n",
    "    reduce_lr = ReduceLROnPlateau(\n",
    "        monitor='val_loss',\n",
    "        factor=0.2,\n",
    "        patience=2,\n",
    "        min_lr=1e-6,\n",
    "        mode='min',\n",
    "        verbose=1,\n",
    "    )\n",
    "    \n",
    "    # Fit the model\n",
    "    history = model.fit(\n",
    "        train_set,\n",
    "        validation_data=test_set,\n",
    "        epochs=25,\n",
    "        batch_size=BATCH_SIZE,\n",
    "        callbacks=[es, checkpoint_cb, reduce_lr],\n",
    "    )\n",
    "    \n",
    "    # Save the model\n",
    "    model.save('Cassava_model_vggtry1'+'.h5')  \n",
    "    return history"
   ]
  },
  {
   "cell_type": "code",
   "execution_count": null,
   "metadata": {},
   "outputs": [],
   "source": [
    "sess = tf.compat.v1.Session(config=tf.compat.v1.ConfigProto(log_device_placement=True))\n",
    "\n",
    "from tensorflow.compat.v1.keras import backend as K\n",
    "K.set_session(sess)"
   ]
  },
  {
   "cell_type": "code",
   "execution_count": null,
   "metadata": {},
   "outputs": [],
   "source": [
    "try:\n",
    "    final_model = keras.models.load_model('Cassava_model_vggtry1.h5')\n",
    "except Exception as e:\n",
    "    with tf.device('/GPU:0'):\n",
    "        results = model_fit()\n",
    "    print('Train Categorical Accuracy: ', max(results.history['categorical_accuracy']))\n",
    "    print('Test Categorical Accuracy: ', max(results.history['val_categorical_accuracy']))"
   ]
  }
 ],
 "metadata": {
  "kernelspec": {
   "display_name": "Python 3",
   "language": "python",
   "name": "python3"
  },
  "language_info": {
   "codemirror_mode": {
    "name": "ipython",
    "version": 3
   },
   "file_extension": ".py",
   "mimetype": "text/x-python",
   "name": "python",
   "nbconvert_exporter": "python",
   "pygments_lexer": "ipython3",
   "version": "3.8.3"
  }
 },
 "nbformat": 4,
 "nbformat_minor": 4
}
